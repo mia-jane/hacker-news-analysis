{
 "cells": [
  {
   "cell_type": "markdown",
   "id": "22a098ff-8324-4bd9-b43c-8cf4d96b5d1f",
   "metadata": {},
   "source": [
    "# Exploring Hacker News Posts\n",
    "Analysing trends in what influences post popularity on [Hacker News](https://news.ycombinator.com/). The two types of posts explored are `Ask HN` or `Show HN`\n",
    "\n",
    "Users submit `Ask HN` posts to ask the Hacker News community a specific question. Users submit `Show HN` posts to show the Hacker News community a project, product or something interesting.\n",
    "\n",
    "These two types of posts will be compared to determine the following: \n",
    "* Do `Ask HN` or `Show HN` receive more posts on average?\n",
    "* Do posts created at a certain time receive more comments on average?\n",
    "\n",
    "The data set was reduced from almost 300,000 rows to approximately 20,000 rows by removing all submissions that did not receive any comments, and then randomly sampling from the remaining submissions."
   ]
  },
  {
   "cell_type": "code",
   "execution_count": 3,
   "id": "584ab09e-330a-4b44-bb4c-8afdcd98e574",
   "metadata": {},
   "outputs": [
    {
     "data": {
      "text/plain": [
       "[['id', 'title', 'url', 'num_points', 'num_comments', 'author', 'created_at'],\n",
       " ['12224879',\n",
       "  'Interactive Dynamic Video',\n",
       "  'http://www.interactivedynamicvideo.com/',\n",
       "  '386',\n",
       "  '52',\n",
       "  'ne0phyte',\n",
       "  '8/4/2016 11:52'],\n",
       " ['10975351',\n",
       "  'How to Use Open Source and Shut the Fuck Up at the Same Time',\n",
       "  'http://hueniverse.com/2016/01/26/how-to-use-open-source-and-shut-the-fuck-up-at-the-same-time/',\n",
       "  '39',\n",
       "  '10',\n",
       "  'josep2',\n",
       "  '1/26/2016 19:30']]"
      ]
     },
     "execution_count": 3,
     "metadata": {},
     "output_type": "execute_result"
    }
   ],
   "source": [
    "hn_file = open('hacker_news.csv')\n",
    "from csv import reader\n",
    "read_hn_file = reader(hn_file)\n",
    "hn = list(read_hn_file)\n",
    "hn[:3]"
   ]
  },
  {
   "cell_type": "markdown",
   "id": "b578a801-16d5-40fb-ab59-1f3c9c6508e5",
   "metadata": {},
   "source": [
    "### Remove headers"
   ]
  },
  {
   "cell_type": "code",
   "execution_count": 5,
   "id": "d9bbed68-6604-4dce-b59b-b76e33b8024e",
   "metadata": {},
   "outputs": [
    {
     "name": "stdout",
     "output_type": "stream",
     "text": [
      "['id', 'title', 'url', 'num_points', 'num_comments', 'author', 'created_at']\n",
      "[['12224879', 'Interactive Dynamic Video', 'http://www.interactivedynamicvideo.com/', '386', '52', 'ne0phyte', '8/4/2016 11:52'], ['10975351', 'How to Use Open Source and Shut the Fuck Up at the Same Time', 'http://hueniverse.com/2016/01/26/how-to-use-open-source-and-shut-the-fuck-up-at-the-same-time/', '39', '10', 'josep2', '1/26/2016 19:30'], ['11964716', \"Florida DJs May Face Felony for April Fools' Water Joke\", 'http://www.thewire.com/entertainment/2013/04/florida-djs-april-fools-water-joke/63798/', '2', '1', 'vezycash', '6/23/2016 22:20'], ['11919867', 'Technology ventures: From Idea to Enterprise', 'https://www.amazon.com/Technology-Ventures-Enterprise-Thomas-Byers/dp/0073523429', '3', '1', 'hswarna', '6/17/2016 0:01'], ['10301696', 'Note by Note: The Making of Steinway L1037 (2007)', 'http://www.nytimes.com/2007/11/07/movies/07stein.html?_r=0', '8', '2', 'walterbell', '9/30/2015 4:12']]\n"
     ]
    }
   ],
   "source": [
    "headers = hn[0]\n",
    "hn = hn[1:]\n",
    "print(headers)\n",
    "print(hn[:5])"
   ]
  },
  {
   "cell_type": "markdown",
   "id": "1f247e9a-d953-493b-996b-7a314d0bdb74",
   "metadata": {},
   "source": [
    "### Extracting Ask HackerNews and Show HackerNews Posts\n",
    "The data is separated into separate lists for posts starting with \"Ask HN\" and posts starting with \"Show HN\""
   ]
  },
  {
   "cell_type": "code",
   "execution_count": 7,
   "id": "3eb92a1e-b838-4daf-bea9-764590c9a218",
   "metadata": {},
   "outputs": [
    {
     "name": "stdout",
     "output_type": "stream",
     "text": [
      "1744\n",
      "1162\n",
      "17194\n"
     ]
    }
   ],
   "source": [
    "ask_posts = []\n",
    "show_posts = []\n",
    "other_posts = []\n",
    "\n",
    "for post in hn:\n",
    "    title = post[1].lower()\n",
    "    if title.startswith('ask hn'):\n",
    "        ask_posts.append(post)\n",
    "    elif title.startswith('show hn'):\n",
    "        show_posts.append(post)\n",
    "    else: \n",
    "        other_posts.append(post)\n",
    "\n",
    "print(len(ask_posts))\n",
    "print(len(show_posts))\n",
    "print(len(other_posts))"
   ]
  },
  {
   "cell_type": "markdown",
   "id": "696769ab-f656-4beb-a890-b6286582f7d0",
   "metadata": {},
   "source": [
    "### Calculate the average number of Ask Hacker News and Show Hacker News posts"
   ]
  },
  {
   "cell_type": "code",
   "execution_count": 9,
   "id": "a8eb17ac-be3c-4914-bf8b-9252150d4adf",
   "metadata": {},
   "outputs": [
    {
     "name": "stdout",
     "output_type": "stream",
     "text": [
      "14.038417431192661\n",
      "10.31669535283993\n",
      "26.8730371059672\n"
     ]
    }
   ],
   "source": [
    "def calculate_avg_comment_number(posts_list):\n",
    "    total_comments = 0\n",
    "    for post in posts_list:\n",
    "        comment_number = int(post[4])\n",
    "        total_comments += comment_number\n",
    "    return total_comments / len(posts_list)\n",
    "\n",
    "avg_ask_comments = calculate_avg_comment_number(ask_posts)\n",
    "avg_show_comments = calculate_avg_comment_number(show_posts)\n",
    "avg_other_comments = calculate_avg_comment_number(other_posts)\n",
    "print(avg_ask_comments)\n",
    "print(avg_show_comments)\n",
    "print(avg_other_comments)"
   ]
  },
  {
   "cell_type": "markdown",
   "id": "b61c51b9-cd2b-4919-b35e-1dc06b457984",
   "metadata": {},
   "source": [
    "On average, \"Ask HN\" receive approximately 14 comments while \"Show HN\" posts receive about 10 comments. Since \"Ask HN\" posts tend to receive more comments, the remaining analysis focuses on these posts."
   ]
  },
  {
   "cell_type": "markdown",
   "id": "9b1a0c9b-328f-4d29-bba4-eb8dd6f7610e",
   "metadata": {},
   "source": [
    "### Determine if Ask HN posts created at certain hours of the day receive more comments than Ask HN posts created at other times of day "
   ]
  },
  {
   "cell_type": "code",
   "execution_count": 12,
   "id": "ec2d8c79-3882-4d43-9ae5-07456b137ca5",
   "metadata": {},
   "outputs": [
    {
     "data": {
      "text/plain": [
       "{'09': 251,\n",
       " '13': 1253,\n",
       " '10': 793,\n",
       " '14': 1416,\n",
       " '16': 1814,\n",
       " '23': 543,\n",
       " '12': 687,\n",
       " '17': 1146,\n",
       " '15': 4477,\n",
       " '21': 1745,\n",
       " '20': 1722,\n",
       " '02': 1381,\n",
       " '18': 1439,\n",
       " '03': 421,\n",
       " '05': 464,\n",
       " '19': 1188,\n",
       " '01': 683,\n",
       " '22': 479,\n",
       " '08': 492,\n",
       " '04': 337,\n",
       " '00': 447,\n",
       " '06': 397,\n",
       " '07': 267,\n",
       " '11': 641}"
      ]
     },
     "execution_count": 12,
     "metadata": {},
     "output_type": "execute_result"
    }
   ],
   "source": [
    "# Calculate the amount of ask posts created during each hour of day and the number of comments received.\n",
    "import datetime as dt\n",
    "\n",
    "result_list = []\n",
    "\n",
    "for post in ask_posts:\n",
    "    result_list.append(\n",
    "        [post[6], int(post[4])]\n",
    "    )\n",
    "\n",
    "# posts_by_hour contains the number of ask posts created during each hour of the day\n",
    "posts_by_hour = {}\n",
    "# comments_by_hour contains the corresponding number of comments ask posts created at each hour received\n",
    "comments_by_hour = {}\n",
    "date_format = \"%m/%d/%Y %H:%M\"\n",
    "\n",
    "for result in result_list:\n",
    "    date = result[0]\n",
    "    comment = result[1]\n",
    "    hour = dt.datetime.strptime(date, date_format).strftime(\"%H\")\n",
    "    if hour in posts_by_hour:\n",
    "        comments_by_hour[hour] += comment\n",
    "        posts_by_hour[hour] += 1\n",
    "    else:\n",
    "        comments_by_hour[hour] = comment\n",
    "        posts_by_hour[hour] = 1\n",
    "\n",
    "comments_by_hour\n"
   ]
  },
  {
   "cell_type": "code",
   "execution_count": 13,
   "id": "79595a29-4e01-4fdc-91af-6ad949f3a897",
   "metadata": {},
   "outputs": [
    {
     "data": {
      "text/plain": [
       "[['09', 5.5777777777777775],\n",
       " ['13', 14.741176470588234],\n",
       " ['10', 13.440677966101696],\n",
       " ['14', 13.233644859813085],\n",
       " ['16', 16.796296296296298],\n",
       " ['23', 7.985294117647059],\n",
       " ['12', 9.41095890410959],\n",
       " ['17', 11.46],\n",
       " ['15', 38.5948275862069],\n",
       " ['21', 16.009174311926607],\n",
       " ['20', 21.525],\n",
       " ['02', 23.810344827586206],\n",
       " ['18', 13.20183486238532],\n",
       " ['03', 7.796296296296297],\n",
       " ['05', 10.08695652173913],\n",
       " ['19', 10.8],\n",
       " ['01', 11.383333333333333],\n",
       " ['22', 6.746478873239437],\n",
       " ['08', 10.25],\n",
       " ['04', 7.170212765957447],\n",
       " ['00', 8.127272727272727],\n",
       " ['06', 9.022727272727273],\n",
       " ['07', 7.852941176470588],\n",
       " ['11', 11.051724137931034]]"
      ]
     },
     "execution_count": 13,
     "metadata": {},
     "output_type": "execute_result"
    }
   ],
   "source": [
    "# Calculate the average amount of comments `Ask HN` posts created at each hour of the day receive.\n",
    "avg_by_hour = []\n",
    "for hour in posts_by_hour:\n",
    "    avg_by_hour.append([hour, comments_by_hour[hour] / posts_by_hour[hour]])\n",
    "\n",
    "avg_by_hour"
   ]
  },
  {
   "cell_type": "code",
   "execution_count": 14,
   "id": "1f9c1161-58d8-42f2-bd42-d62640fec64a",
   "metadata": {},
   "outputs": [
    {
     "data": {
      "text/plain": [
       "[['15', 38.5948275862069],\n",
       " ['02', 23.810344827586206],\n",
       " ['20', 21.525],\n",
       " ['16', 16.796296296296298],\n",
       " ['21', 16.009174311926607],\n",
       " ['13', 14.741176470588234],\n",
       " ['10', 13.440677966101696],\n",
       " ['14', 13.233644859813085],\n",
       " ['18', 13.20183486238532],\n",
       " ['17', 11.46],\n",
       " ['01', 11.383333333333333],\n",
       " ['11', 11.051724137931034],\n",
       " ['19', 10.8],\n",
       " ['08', 10.25],\n",
       " ['05', 10.08695652173913],\n",
       " ['12', 9.41095890410959],\n",
       " ['06', 9.022727272727273],\n",
       " ['00', 8.127272727272727],\n",
       " ['23', 7.985294117647059],\n",
       " ['07', 7.852941176470588],\n",
       " ['03', 7.796296296296297],\n",
       " ['04', 7.170212765957447],\n",
       " ['22', 6.746478873239437],\n",
       " ['09', 5.5777777777777775]]"
      ]
     },
     "execution_count": 14,
     "metadata": {},
     "output_type": "execute_result"
    }
   ],
   "source": [
    "sorted_avg_by_hour = sorted(avg_by_hour, key=lambda x: x[1], reverse = True)\n",
    "sorted_avg_by_hour"
   ]
  },
  {
   "cell_type": "code",
   "execution_count": 15,
   "id": "d398f153-fc11-4f8a-832b-88550da56f18",
   "metadata": {},
   "outputs": [
    {
     "name": "stdout",
     "output_type": "stream",
     "text": [
      "15:00: 38.59 average comments per post\n",
      "02:00: 23.81 average comments per post\n",
      "20:00: 21.52 average comments per post\n",
      "16:00: 16.80 average comments per post\n",
      "21:00: 16.01 average comments per post\n"
     ]
    }
   ],
   "source": [
    "for hour, avg in sorted_avg_by_hour[:5]:\n",
    "    time = dt.datetime.strptime(hour, '%H').strftime('%H:%M')\n",
    "    formatted_avg = format(avg, '.2f')\n",
    "    print(f\"{time}: {formatted_avg} average comments per post\")"
   ]
  },
  {
   "cell_type": "markdown",
   "id": "23b7b366-7bfa-43af-b08d-071f85e8b679",
   "metadata": {},
   "source": [
    "The hour that receives the most comments per post on average is 15:00, with an average of 38.59 comments per post. There's about a 60% increase in the number of comments between the hours with the highest and second highest average number of comments.\n",
    "\n",
    "According to the data set [documentation](https://www.kaggle.com/datasets/hacker-news/hacker-news-posts), the timezone used is Eastern Time in the US."
   ]
  }
 ],
 "metadata": {
  "kernelspec": {
   "display_name": "anaconda-panel-2023.05-py310",
   "language": "python",
   "name": "conda-env-anaconda-panel-2023.05-py310-py"
  },
  "language_info": {
   "codemirror_mode": {
    "name": "ipython",
    "version": 3
   },
   "file_extension": ".py",
   "mimetype": "text/x-python",
   "name": "python",
   "nbconvert_exporter": "python",
   "pygments_lexer": "ipython3",
   "version": "3.11.5"
  }
 },
 "nbformat": 4,
 "nbformat_minor": 5
}
